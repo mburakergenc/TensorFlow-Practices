{
 "cells": [
  {
   "cell_type": "code",
   "execution_count": 1,
   "metadata": {},
   "outputs": [],
   "source": [
    "import pandas as pd\n",
    "import numpy as np\n",
    "import tensorflow as tf\n",
    "from sklearn.model_selection import train_test_split"
   ]
  },
  {
   "cell_type": "code",
   "execution_count": 2,
   "metadata": {
    "collapsed": true
   },
   "outputs": [],
   "source": [
    "data = pd.read_csv(\"iris-species/Iris.csv\")"
   ]
  },
  {
   "cell_type": "code",
   "execution_count": 3,
   "metadata": {},
   "outputs": [
    {
     "data": {
      "text/html": [
       "<div>\n",
       "<style>\n",
       "    .dataframe thead tr:only-child th {\n",
       "        text-align: right;\n",
       "    }\n",
       "\n",
       "    .dataframe thead th {\n",
       "        text-align: left;\n",
       "    }\n",
       "\n",
       "    .dataframe tbody tr th {\n",
       "        vertical-align: top;\n",
       "    }\n",
       "</style>\n",
       "<table border=\"1\" class=\"dataframe\">\n",
       "  <thead>\n",
       "    <tr style=\"text-align: right;\">\n",
       "      <th></th>\n",
       "      <th>Id</th>\n",
       "      <th>SepalLengthCm</th>\n",
       "      <th>SepalWidthCm</th>\n",
       "      <th>PetalLengthCm</th>\n",
       "      <th>PetalWidthCm</th>\n",
       "      <th>Species</th>\n",
       "    </tr>\n",
       "  </thead>\n",
       "  <tbody>\n",
       "    <tr>\n",
       "      <th>0</th>\n",
       "      <td>1</td>\n",
       "      <td>5.1</td>\n",
       "      <td>3.5</td>\n",
       "      <td>1.4</td>\n",
       "      <td>0.2</td>\n",
       "      <td>Iris-setosa</td>\n",
       "    </tr>\n",
       "    <tr>\n",
       "      <th>1</th>\n",
       "      <td>2</td>\n",
       "      <td>4.9</td>\n",
       "      <td>3.0</td>\n",
       "      <td>1.4</td>\n",
       "      <td>0.2</td>\n",
       "      <td>Iris-setosa</td>\n",
       "    </tr>\n",
       "    <tr>\n",
       "      <th>2</th>\n",
       "      <td>3</td>\n",
       "      <td>4.7</td>\n",
       "      <td>3.2</td>\n",
       "      <td>1.3</td>\n",
       "      <td>0.2</td>\n",
       "      <td>Iris-setosa</td>\n",
       "    </tr>\n",
       "    <tr>\n",
       "      <th>3</th>\n",
       "      <td>4</td>\n",
       "      <td>4.6</td>\n",
       "      <td>3.1</td>\n",
       "      <td>1.5</td>\n",
       "      <td>0.2</td>\n",
       "      <td>Iris-setosa</td>\n",
       "    </tr>\n",
       "    <tr>\n",
       "      <th>4</th>\n",
       "      <td>5</td>\n",
       "      <td>5.0</td>\n",
       "      <td>3.6</td>\n",
       "      <td>1.4</td>\n",
       "      <td>0.2</td>\n",
       "      <td>Iris-setosa</td>\n",
       "    </tr>\n",
       "  </tbody>\n",
       "</table>\n",
       "</div>"
      ],
      "text/plain": [
       "   Id  SepalLengthCm  SepalWidthCm  PetalLengthCm  PetalWidthCm      Species\n",
       "0   1            5.1           3.5            1.4           0.2  Iris-setosa\n",
       "1   2            4.9           3.0            1.4           0.2  Iris-setosa\n",
       "2   3            4.7           3.2            1.3           0.2  Iris-setosa\n",
       "3   4            4.6           3.1            1.5           0.2  Iris-setosa\n",
       "4   5            5.0           3.6            1.4           0.2  Iris-setosa"
      ]
     },
     "execution_count": 3,
     "metadata": {},
     "output_type": "execute_result"
    }
   ],
   "source": [
    "data.head()"
   ]
  },
  {
   "cell_type": "code",
   "execution_count": 4,
   "metadata": {},
   "outputs": [],
   "source": [
    "# Apply one-hot encoding\n",
    "def one_hot(value):\n",
    "    if value == \"Iris-setosa\":\n",
    "        return 0\n",
    "    elif value == \"Iris-versicolor\":\n",
    "        return 1\n",
    "    else:\n",
    "        return 2"
   ]
  },
  {
   "cell_type": "code",
   "execution_count": 5,
   "metadata": {
    "collapsed": true
   },
   "outputs": [],
   "source": [
    "data['Species'] = data['Species'].apply(one_hot)"
   ]
  },
  {
   "cell_type": "code",
   "execution_count": 6,
   "metadata": {},
   "outputs": [
    {
     "data": {
      "text/plain": [
       "array([0, 1, 2])"
      ]
     },
     "execution_count": 6,
     "metadata": {},
     "output_type": "execute_result"
    }
   ],
   "source": [
    "data['Species'].unique()"
   ]
  },
  {
   "cell_type": "code",
   "execution_count": 7,
   "metadata": {
    "collapsed": true
   },
   "outputs": [],
   "source": [
    "# Perform train-test split"
   ]
  },
  {
   "cell_type": "code",
   "execution_count": 8,
   "metadata": {
    "collapsed": true
   },
   "outputs": [],
   "source": [
    "X = data.drop(['Species','Id'], axis=1)\n",
    "y = data['Species']"
   ]
  },
  {
   "cell_type": "code",
   "execution_count": 9,
   "metadata": {},
   "outputs": [],
   "source": [
    "X_train, X_test, y_train, y_test = train_test_split(X, y, test_size=0.30, random_state=101)"
   ]
  },
  {
   "cell_type": "markdown",
   "metadata": {},
   "source": [
    "### Classification Using TFEstimator API"
   ]
  },
  {
   "cell_type": "code",
   "execution_count": 10,
   "metadata": {},
   "outputs": [
    {
     "data": {
      "text/plain": [
       "Index(['Id', 'SepalLengthCm', 'SepalWidthCm', 'PetalLengthCm', 'PetalWidthCm',\n",
       "       'Species'],\n",
       "      dtype='object')"
      ]
     },
     "execution_count": 10,
     "metadata": {},
     "output_type": "execute_result"
    }
   ],
   "source": [
    "data.columns"
   ]
  },
  {
   "cell_type": "code",
   "execution_count": 11,
   "metadata": {},
   "outputs": [],
   "source": [
    "# Create numeric feature columns\n",
    "\n",
    "SepalLengthCm = tf.feature_column.numeric_column('SepalLengthCm')\n",
    "SepalWidthCm = tf.feature_column.numeric_column('SepalWidthCm')\n",
    "PetalLengthCm = tf.feature_column.numeric_column('PetalLengthCm')\n",
    "PetalWidthCm = tf.feature_column.numeric_column('PetalWidthCm')\n",
    "Species = tf.feature_column.numeric_column('Species')\n",
    "\n",
    "feat_cols = [SepalLengthCm, SepalWidthCm, PetalLengthCm, PetalWidthCm]"
   ]
  },
  {
   "cell_type": "code",
   "execution_count": 12,
   "metadata": {},
   "outputs": [
    {
     "name": "stdout",
     "output_type": "stream",
     "text": [
      "(105, 4)\n",
      "(105,)\n"
     ]
    }
   ],
   "source": [
    "print(X_train.shape)\n",
    "print(y_train.shape)"
   ]
  },
  {
   "cell_type": "code",
   "execution_count": 26,
   "metadata": {},
   "outputs": [],
   "source": [
    "# Create an input function that will be fed into the input dictionary\n",
    "input_fnc = tf.estimator.inputs.pandas_input_fn(x=X_train, y=y_train, shuffle=True, batch_size=10, num_epochs=50)"
   ]
  },
  {
   "cell_type": "code",
   "execution_count": 27,
   "metadata": {},
   "outputs": [
    {
     "name": "stdout",
     "output_type": "stream",
     "text": [
      "INFO:tensorflow:Using default config.\n",
      "WARNING:tensorflow:Using temporary folder as model directory: /var/folders/y0/f6x1qz191gxdq8fj4lpy82l00000gn/T/tmpjj9r6j1j\n",
      "INFO:tensorflow:Using config: {'_master': '', '_log_step_count_steps': 100, '_keep_checkpoint_max': 5, '_task_id': 0, '_task_type': 'worker', '_session_config': None, '_service': None, '_keep_checkpoint_every_n_hours': 10000, '_num_worker_replicas': 1, '_tf_random_seed': None, '_model_dir': '/var/folders/y0/f6x1qz191gxdq8fj4lpy82l00000gn/T/tmpjj9r6j1j', '_cluster_spec': <tensorflow.python.training.server_lib.ClusterSpec object at 0x1023cda20>, '_save_checkpoints_steps': None, '_save_checkpoints_secs': 600, '_num_ps_replicas': 0, '_save_summary_steps': 100, '_is_chief': True}\n"
     ]
    }
   ],
   "source": [
    "# Create deep the model\n",
    "model = tf.estimator.DNNClassifier(hidden_units=[10,10,10,4],feature_columns=feat_cols, n_classes=3,\n",
    "                                   optimizer=tf.train.GradientDescentOptimizer(learning_rate=0.003))"
   ]
  },
  {
   "cell_type": "code",
   "execution_count": 28,
   "metadata": {},
   "outputs": [
    {
     "name": "stdout",
     "output_type": "stream",
     "text": [
      "INFO:tensorflow:Create CheckpointSaverHook.\n",
      "INFO:tensorflow:Saving checkpoints for 1 into /var/folders/y0/f6x1qz191gxdq8fj4lpy82l00000gn/T/tmpjj9r6j1j/model.ckpt.\n",
      "INFO:tensorflow:step = 1, loss = 11.1327\n",
      "INFO:tensorflow:global_step/sec: 362.226\n",
      "INFO:tensorflow:step = 101, loss = 3.91553 (0.279 sec)\n",
      "INFO:tensorflow:global_step/sec: 431.624\n",
      "INFO:tensorflow:step = 201, loss = 2.47501 (0.232 sec)\n",
      "INFO:tensorflow:global_step/sec: 393.19\n",
      "INFO:tensorflow:step = 301, loss = 3.33306 (0.255 sec)\n",
      "INFO:tensorflow:global_step/sec: 414.26\n",
      "INFO:tensorflow:step = 401, loss = 2.01063 (0.249 sec)\n",
      "INFO:tensorflow:Saving checkpoints for 500 into /var/folders/y0/f6x1qz191gxdq8fj4lpy82l00000gn/T/tmpjj9r6j1j/model.ckpt.\n",
      "INFO:tensorflow:Loss for final step: 0.49854.\n"
     ]
    },
    {
     "data": {
      "text/plain": [
       "<tensorflow.python.estimator.canned.dnn.DNNClassifier at 0x106783898>"
      ]
     },
     "execution_count": 28,
     "metadata": {},
     "output_type": "execute_result"
    }
   ],
   "source": [
    "# Train the model\n",
    "model.train(input_fn=input_fnc, steps=500)"
   ]
  },
  {
   "cell_type": "code",
   "execution_count": 29,
   "metadata": {},
   "outputs": [],
   "source": [
    "# Create an input function for evaluation\n",
    "input_fnc_eval = tf.estimator.inputs.pandas_input_fn(X_test, shuffle=False)"
   ]
  },
  {
   "cell_type": "code",
   "execution_count": 30,
   "metadata": {},
   "outputs": [
    {
     "name": "stdout",
     "output_type": "stream",
     "text": [
      "INFO:tensorflow:Restoring parameters from /var/folders/y0/f6x1qz191gxdq8fj4lpy82l00000gn/T/tmpjj9r6j1j/model.ckpt-500\n"
     ]
    }
   ],
   "source": [
    "# Get predictions and cast it into a list\n",
    "preds = list(model.predict(input_fn=input_fnc_eval))"
   ]
  },
  {
   "cell_type": "code",
   "execution_count": 31,
   "metadata": {},
   "outputs": [],
   "source": [
    "# Select only the predicted class ids\n",
    "predictions = [p['class_ids'][0] for p in preds]"
   ]
  },
  {
   "cell_type": "code",
   "execution_count": 32,
   "metadata": {
    "collapsed": true
   },
   "outputs": [],
   "source": [
    "# Evaluate the model\n",
    "from sklearn.metrics import classification_report"
   ]
  },
  {
   "cell_type": "code",
   "execution_count": 33,
   "metadata": {},
   "outputs": [
    {
     "name": "stdout",
     "output_type": "stream",
     "text": [
      "             precision    recall  f1-score   support\n",
      "\n",
      "          0       1.00      1.00      1.00        13\n",
      "          1       1.00      0.55      0.71        20\n",
      "          2       0.57      1.00      0.73        12\n",
      "\n",
      "avg / total       0.89      0.80      0.80        45\n",
      "\n"
     ]
    }
   ],
   "source": [
    "print(classification_report(y_test, predictions))"
   ]
  },
  {
   "cell_type": "code",
   "execution_count": 34,
   "metadata": {},
   "outputs": [
    {
     "name": "stdout",
     "output_type": "stream",
     "text": [
      "INFO:tensorflow:Using default config.\n",
      "WARNING:tensorflow:Using temporary folder as model directory: /var/folders/y0/f6x1qz191gxdq8fj4lpy82l00000gn/T/tmpmvnx9oqb\n",
      "INFO:tensorflow:Using config: {'_master': '', '_log_step_count_steps': 100, '_keep_checkpoint_max': 5, '_task_id': 0, '_task_type': 'worker', '_session_config': None, '_service': None, '_keep_checkpoint_every_n_hours': 10000, '_num_worker_replicas': 1, '_tf_random_seed': None, '_model_dir': '/var/folders/y0/f6x1qz191gxdq8fj4lpy82l00000gn/T/tmpmvnx9oqb', '_cluster_spec': <tensorflow.python.training.server_lib.ClusterSpec object at 0x1a13d4a128>, '_save_checkpoints_steps': None, '_save_checkpoints_secs': 600, '_num_ps_replicas': 0, '_save_summary_steps': 100, '_is_chief': True}\n"
     ]
    }
   ],
   "source": [
    "# Create a linear model\n",
    "linear_model = tf.estimator.LinearClassifier(feature_columns=feat_cols, n_classes=3)"
   ]
  },
  {
   "cell_type": "code",
   "execution_count": 35,
   "metadata": {},
   "outputs": [
    {
     "name": "stdout",
     "output_type": "stream",
     "text": [
      "INFO:tensorflow:Create CheckpointSaverHook.\n",
      "INFO:tensorflow:Saving checkpoints for 1 into /var/folders/y0/f6x1qz191gxdq8fj4lpy82l00000gn/T/tmpmvnx9oqb/model.ckpt.\n",
      "INFO:tensorflow:step = 1, loss = 10.9861\n",
      "INFO:tensorflow:global_step/sec: 408.305\n",
      "INFO:tensorflow:step = 101, loss = 4.97176 (0.247 sec)\n",
      "INFO:tensorflow:global_step/sec: 441.932\n",
      "INFO:tensorflow:step = 201, loss = 2.28684 (0.226 sec)\n",
      "INFO:tensorflow:global_step/sec: 424.618\n",
      "INFO:tensorflow:step = 301, loss = 2.46504 (0.235 sec)\n",
      "INFO:tensorflow:global_step/sec: 427.412\n",
      "INFO:tensorflow:step = 401, loss = 2.28224 (0.234 sec)\n",
      "INFO:tensorflow:global_step/sec: 657.873\n",
      "INFO:tensorflow:step = 501, loss = 2.04661 (0.152 sec)\n",
      "INFO:tensorflow:Saving checkpoints for 525 into /var/folders/y0/f6x1qz191gxdq8fj4lpy82l00000gn/T/tmpmvnx9oqb/model.ckpt.\n",
      "INFO:tensorflow:Loss for final step: 1.08493.\n"
     ]
    },
    {
     "data": {
      "text/plain": [
       "<tensorflow.python.estimator.canned.linear.LinearClassifier at 0x106614a58>"
      ]
     },
     "execution_count": 35,
     "metadata": {},
     "output_type": "execute_result"
    }
   ],
   "source": [
    "# Train the model\n",
    "linear_model.train(input_fn=input_fnc)"
   ]
  },
  {
   "cell_type": "code",
   "execution_count": 36,
   "metadata": {},
   "outputs": [
    {
     "name": "stdout",
     "output_type": "stream",
     "text": [
      "INFO:tensorflow:Restoring parameters from /var/folders/y0/f6x1qz191gxdq8fj4lpy82l00000gn/T/tmpmvnx9oqb/model.ckpt-525\n"
     ]
    }
   ],
   "source": [
    "# Get predictions and cast it into a list\n",
    "preds = list(linear_model.predict(input_fn=input_fnc_eval))"
   ]
  },
  {
   "cell_type": "code",
   "execution_count": 37,
   "metadata": {
    "collapsed": true
   },
   "outputs": [],
   "source": [
    "# Select only the class ids\n",
    "predictions = [p['class_ids'][0] for p in preds]"
   ]
  },
  {
   "cell_type": "code",
   "execution_count": 38,
   "metadata": {},
   "outputs": [
    {
     "name": "stdout",
     "output_type": "stream",
     "text": [
      "             precision    recall  f1-score   support\n",
      "\n",
      "          0       1.00      1.00      1.00        13\n",
      "          1       0.95      1.00      0.98        20\n",
      "          2       1.00      0.92      0.96        12\n",
      "\n",
      "avg / total       0.98      0.98      0.98        45\n",
      "\n"
     ]
    }
   ],
   "source": [
    "# Evaluate the model\n",
    "print(classification_report(y_test, predictions))"
   ]
  }
 ],
 "metadata": {
  "kernelspec": {
   "display_name": "Python 3",
   "language": "python",
   "name": "python3"
  },
  "language_info": {
   "codemirror_mode": {
    "name": "ipython",
    "version": 3
   },
   "file_extension": ".py",
   "mimetype": "text/x-python",
   "name": "python",
   "nbconvert_exporter": "python",
   "pygments_lexer": "ipython3",
   "version": "3.5.4"
  }
 },
 "nbformat": 4,
 "nbformat_minor": 2
}
